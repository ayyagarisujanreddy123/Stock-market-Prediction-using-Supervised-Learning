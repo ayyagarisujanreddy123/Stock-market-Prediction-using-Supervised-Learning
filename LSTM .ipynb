{
  "nbformat": 4,
  "nbformat_minor": 0,
  "metadata": {
    "colab": {
      "provenance": []
    },
    "kernelspec": {
      "name": "python3",
      "display_name": "Python 3"
    },
    "language_info": {
      "name": "python"
    }
  },
  "cells": [
    {
      "cell_type": "code",
      "execution_count": 1,
      "metadata": {
        "id": "55DhPcnKH5-a"
      },
      "outputs": [],
      "source": [
        "# 📦 Import Libraries\n",
        "import pandas as pd\n",
        "import numpy as np\n",
        "import matplotlib.pyplot as plt\n",
        "import seaborn as sns\n",
        "from sklearn.preprocessing import MinMaxScaler\n",
        "from sklearn.metrics import accuracy_score, classification_report, confusion_matrix\n",
        "from tensorflow.keras.models import Sequential\n",
        "from tensorflow.keras.layers import LSTM, Dense, Dropout, Bidirectional, BatchNormalization\n",
        "from tensorflow.keras.callbacks import EarlyStopping, ReduceLROnPlateau\n",
        "\n",
        "# 📥 Load Sentiment Dataset\n",
        "sentiment_data = pd.read_csv(\"/content/all-data.csv\", header=None, encoding='ISO-8859-1')\n",
        "sentiment_data.columns = ['sentiment', 'headline']\n",
        "sentiment_data['sentiment_score'] = sentiment_data['sentiment'].map({'positive': 1, 'neutral': 0, 'negative': -1})\n",
        "sentiment_data['date'] = pd.date_range(start='2014-01-02', periods=len(sentiment_data), freq='B')\n",
        "daily_sentiment = sentiment_data.groupby('date')['sentiment_score'].mean().reset_index()\n",
        "\n",
        "# 📈 Load and Process AAPL Stock Data\n",
        "df = pd.read_csv(\"/content/SP 500 Stock Prices 2014-2017 2.csv\")\n",
        "df = df[df['symbol'] == 'AAPL'].copy()\n",
        "df['date'] = pd.to_datetime(df['date'])\n",
        "df = df.sort_values('date')\n",
        "\n",
        "# 📊 Feature Engineering\n",
        "df['daily_return'] = df['close'] - df['open']\n",
        "df['price_range'] = df['high'] - df['low']\n",
        "df['avg_price'] = (df['open'] + df['high'] + df['low'] + df['close']) / 4\n",
        "df['rolling_std'] = df['close'].rolling(5).std()\n",
        "df['percent_change'] = df['close'].pct_change()\n",
        "df['ma_3'] = df['close'].rolling(3).mean()\n",
        "df['ma_7'] = df['close'].rolling(7).mean()\n",
        "df['ma_14'] = df['close'].rolling(14).mean()\n",
        "df['ma_ratio'] = df['ma_3'] / df['ma_7']\n",
        "df['vol_change'] = df['volume'].pct_change()\n",
        "df['close_lag_1'] = df['close'].shift(1)\n",
        "df['volume_lag_1'] = df['volume'].shift(1)\n",
        "df = df.dropna()\n",
        "\n",
        "# 🔗 Merge with Sentiment Data\n",
        "merged_df = pd.merge(df, daily_sentiment, on='date', how='left')\n",
        "merged_df['sentiment_score'] = merged_df['sentiment_score'].fillna(0)\n",
        "merged_df['sentiment_ma3'] = merged_df['sentiment_score'].rolling(3).mean()\n",
        "merged_df['sentiment_ma5'] = merged_df['sentiment_score'].rolling(5).mean()\n",
        "merged_df = merged_df.fillna(0).reset_index(drop=True)\n",
        "\n",
        "# 🎯 Create 3-Day Trend Target\n",
        "merged_df['trend_3day'] = (\n",
        "    (merged_df['close'].shift(-1) < merged_df['close'].shift(-2)) &\n",
        "    (merged_df['close'].shift(-2) < merged_df['close'].shift(-3))\n",
        ").astype(int)\n",
        "merged_df = merged_df[:-3]  # remove last 3 rows with no label\n",
        "\n",
        "# 📐 Feature Set\n",
        "features = ['open', 'high', 'low', 'close', 'volume', 'daily_return',\n",
        "            'price_range', 'avg_price', 'rolling_std', 'percent_change',\n",
        "            'ma_3', 'ma_7', 'ma_14', 'ma_ratio', 'vol_change',\n",
        "            'close_lag_1', 'volume_lag_1', 'sentiment_score', 'sentiment_ma3', 'sentiment_ma5']\n",
        "\n",
        "# 🔄 Normalize Features\n",
        "scaler = MinMaxScaler()\n",
        "scaled_features = scaler.fit_transform(merged_df[features])\n",
        "labels = merged_df['trend_3day'].values\n",
        "\n",
        "# 🔁 Create LSTM Sequences\n",
        "def create_sequences(data, labels, window_size=30):\n",
        "    X, y = [], []\n",
        "    for i in range(len(data) - window_size):\n",
        "        X.append(data[i:i + window_size])\n",
        "        y.append(labels[i + window_size])\n",
        "    return np.array(X), np.array(y)\n",
        "\n",
        "X, y = create_sequences(scaled_features, labels, window_size=30)\n",
        "\n",
        "# ✂️ Train/Test Split\n",
        "split = int(0.8 * len(X))\n",
        "X_train, X_test = X[:split], X[split:]\n",
        "y_train, y_test = y[:split], y[split:]\n"
      ]
    },
    {
      "cell_type": "code",
      "source": [
        "# 🧠 Model Architecture\n",
        "model = Sequential([\n",
        "    Bidirectional(LSTM(128, return_sequences=True), input_shape=(X_train.shape[1], X_train.shape[2])),\n",
        "    BatchNormalization(),\n",
        "    Dropout(0.4),\n",
        "    LSTM(64),\n",
        "    Dropout(0.4),\n",
        "    Dense(64, activation='relu'),\n",
        "    Dense(1, activation='sigmoid')\n",
        "])\n",
        "\n",
        "# 🧪 Compile\n",
        "model.compile(optimizer='adam', loss='binary_crossentropy', metrics=['accuracy'])\n",
        "\n",
        "# 🛑 Callbacks\n",
        "early_stop = EarlyStopping(monitor='val_loss', patience=5, restore_best_weights=True)\n",
        "reduce_lr = ReduceLROnPlateau(monitor='val_loss', factor=0.5, patience=3, verbose=1)\n",
        "\n",
        "# 🚀 Train\n",
        "history = model.fit(\n",
        "    X_train, y_train,\n",
        "    validation_split=0.1,\n",
        "    epochs=50,\n",
        "    batch_size=32,\n",
        "    callbacks=[early_stop, reduce_lr],\n",
        "    verbose=1\n",
        ")\n"
      ],
      "metadata": {
        "colab": {
          "base_uri": "https://localhost:8080/"
        },
        "id": "dxS-jcypIZZ9",
        "outputId": "c37ade44-33c8-4ceb-cd35-ae9e0c27f2ab"
      },
      "execution_count": 2,
      "outputs": [
        {
          "output_type": "stream",
          "name": "stderr",
          "text": [
            "/usr/local/lib/python3.11/dist-packages/keras/src/layers/rnn/bidirectional.py:107: UserWarning: Do not pass an `input_shape`/`input_dim` argument to a layer. When using Sequential models, prefer using an `Input(shape)` object as the first layer in the model instead.\n",
            "  super().__init__(**kwargs)\n"
          ]
        },
        {
          "output_type": "stream",
          "name": "stdout",
          "text": [
            "Epoch 1/50\n",
            "\u001b[1m22/22\u001b[0m \u001b[32m━━━━━━━━━━━━━━━━━━━━\u001b[0m\u001b[37m\u001b[0m \u001b[1m10s\u001b[0m 140ms/step - accuracy: 0.6748 - loss: 0.6005 - val_accuracy: 0.6364 - val_loss: 0.6564 - learning_rate: 0.0010\n",
            "Epoch 2/50\n",
            "\u001b[1m22/22\u001b[0m \u001b[32m━━━━━━━━━━━━━━━━━━━━\u001b[0m\u001b[37m\u001b[0m \u001b[1m2s\u001b[0m 108ms/step - accuracy: 0.7055 - loss: 0.5926 - val_accuracy: 0.6364 - val_loss: 0.6558 - learning_rate: 0.0010\n",
            "Epoch 3/50\n",
            "\u001b[1m22/22\u001b[0m \u001b[32m━━━━━━━━━━━━━━━━━━━━\u001b[0m\u001b[37m\u001b[0m \u001b[1m2s\u001b[0m 108ms/step - accuracy: 0.7504 - loss: 0.5628 - val_accuracy: 0.6364 - val_loss: 0.6526 - learning_rate: 0.0010\n",
            "Epoch 4/50\n",
            "\u001b[1m22/22\u001b[0m \u001b[32m━━━━━━━━━━━━━━━━━━━━\u001b[0m\u001b[37m\u001b[0m \u001b[1m4s\u001b[0m 165ms/step - accuracy: 0.7245 - loss: 0.6021 - val_accuracy: 0.6364 - val_loss: 0.6544 - learning_rate: 0.0010\n",
            "Epoch 5/50\n",
            "\u001b[1m22/22\u001b[0m \u001b[32m━━━━━━━━━━━━━━━━━━━━\u001b[0m\u001b[37m\u001b[0m \u001b[1m4s\u001b[0m 110ms/step - accuracy: 0.7342 - loss: 0.5643 - val_accuracy: 0.6364 - val_loss: 0.6442 - learning_rate: 0.0010\n",
            "Epoch 6/50\n",
            "\u001b[1m22/22\u001b[0m \u001b[32m━━━━━━━━━━━━━━━━━━━━\u001b[0m\u001b[37m\u001b[0m \u001b[1m3s\u001b[0m 115ms/step - accuracy: 0.7676 - loss: 0.5348 - val_accuracy: 0.6364 - val_loss: 0.6425 - learning_rate: 0.0010\n",
            "Epoch 7/50\n",
            "\u001b[1m22/22\u001b[0m \u001b[32m━━━━━━━━━━━━━━━━━━━━\u001b[0m\u001b[37m\u001b[0m \u001b[1m2s\u001b[0m 110ms/step - accuracy: 0.7421 - loss: 0.5771 - val_accuracy: 0.6364 - val_loss: 0.6454 - learning_rate: 0.0010\n",
            "Epoch 8/50\n",
            "\u001b[1m22/22\u001b[0m \u001b[32m━━━━━━━━━━━━━━━━━━━━\u001b[0m\u001b[37m\u001b[0m \u001b[1m4s\u001b[0m 164ms/step - accuracy: 0.7356 - loss: 0.5552 - val_accuracy: 0.6364 - val_loss: 0.6417 - learning_rate: 0.0010\n",
            "Epoch 9/50\n",
            "\u001b[1m22/22\u001b[0m \u001b[32m━━━━━━━━━━━━━━━━━━━━\u001b[0m\u001b[37m\u001b[0m \u001b[1m3s\u001b[0m 123ms/step - accuracy: 0.7576 - loss: 0.5271 - val_accuracy: 0.6364 - val_loss: 0.6480 - learning_rate: 0.0010\n",
            "Epoch 10/50\n",
            "\u001b[1m22/22\u001b[0m \u001b[32m━━━━━━━━━━━━━━━━━━━━\u001b[0m\u001b[37m\u001b[0m \u001b[1m5s\u001b[0m 110ms/step - accuracy: 0.7805 - loss: 0.5197 - val_accuracy: 0.6364 - val_loss: 0.6477 - learning_rate: 0.0010\n",
            "Epoch 11/50\n",
            "\u001b[1m22/22\u001b[0m \u001b[32m━━━━━━━━━━━━━━━━━━━━\u001b[0m\u001b[37m\u001b[0m \u001b[1m0s\u001b[0m 99ms/step - accuracy: 0.7536 - loss: 0.5446 \n",
            "Epoch 11: ReduceLROnPlateau reducing learning rate to 0.0005000000237487257.\n",
            "\u001b[1m22/22\u001b[0m \u001b[32m━━━━━━━━━━━━━━━━━━━━\u001b[0m\u001b[37m\u001b[0m \u001b[1m2s\u001b[0m 106ms/step - accuracy: 0.7530 - loss: 0.5453 - val_accuracy: 0.6364 - val_loss: 0.6565 - learning_rate: 0.0010\n",
            "Epoch 12/50\n",
            "\u001b[1m22/22\u001b[0m \u001b[32m━━━━━━━━━━━━━━━━━━━━\u001b[0m\u001b[37m\u001b[0m \u001b[1m4s\u001b[0m 182ms/step - accuracy: 0.7313 - loss: 0.5540 - val_accuracy: 0.6364 - val_loss: 0.6629 - learning_rate: 5.0000e-04\n",
            "Epoch 13/50\n",
            "\u001b[1m22/22\u001b[0m \u001b[32m━━━━━━━━━━━━━━━━━━━━\u001b[0m\u001b[37m\u001b[0m \u001b[1m4s\u001b[0m 115ms/step - accuracy: 0.7412 - loss: 0.5420 - val_accuracy: 0.6364 - val_loss: 0.6612 - learning_rate: 5.0000e-04\n"
          ]
        }
      ]
    },
    {
      "cell_type": "code",
      "source": [
        "# 🎯 Predictions\n",
        "y_pred_prob = model.predict(X_test)\n",
        "y_pred = (y_pred_prob > 0.5).astype(int)\n",
        "\n",
        "# 📊 Metrics\n",
        "acc = accuracy_score(y_test, y_pred)\n",
        "report = classification_report(y_test, y_pred, target_names=[\"Down\", \"Up\"])\n",
        "cm = confusion_matrix(y_test, y_pred)\n",
        "\n",
        "print(f\"✅ Accuracy: {acc * 100:.2f}%\")\n",
        "print(\"📋 Classification Report:\\n\", report)\n",
        "\n",
        "# 🔍 Confusion Matrix\n",
        "plt.figure(figsize=(6, 5))\n",
        "sns.heatmap(cm, annot=True, fmt='d', cmap='Blues', xticklabels=[\"Down\", \"Up\"], yticklabels=[\"Down\", \"Up\"])\n",
        "plt.title(\"Confusion Matrix - LSTM with Smoothed Sentiment & 3-Day Trend\")\n",
        "plt.xlabel(\"Predicted\")\n",
        "plt.ylabel(\"Actual\")\n",
        "plt.tight_layout()\n",
        "plt.show()"
      ],
      "metadata": {
        "colab": {
          "base_uri": "https://localhost:8080/",
          "height": 848
        },
        "id": "u0w1wlXEIvMM",
        "outputId": "cb054270-0bf8-4c0a-ead2-843d6577940d"
      },
      "execution_count": 3,
      "outputs": [
        {
          "output_type": "stream",
          "name": "stdout",
          "text": [
            "\u001b[1m7/7\u001b[0m \u001b[32m━━━━━━━━━━━━━━━━━━━━\u001b[0m\u001b[37m\u001b[0m \u001b[1m5s\u001b[0m 530ms/step\n",
            "✅ Accuracy: 73.58%\n",
            "📋 Classification Report:\n",
            "               precision    recall  f1-score   support\n",
            "\n",
            "        Down       0.74      1.00      0.85       142\n",
            "          Up       0.00      0.00      0.00        51\n",
            "\n",
            "    accuracy                           0.74       193\n",
            "   macro avg       0.37      0.50      0.42       193\n",
            "weighted avg       0.54      0.74      0.62       193\n",
            "\n"
          ]
        },
        {
          "output_type": "stream",
          "name": "stderr",
          "text": [
            "/usr/local/lib/python3.11/dist-packages/sklearn/metrics/_classification.py:1565: UndefinedMetricWarning: Precision is ill-defined and being set to 0.0 in labels with no predicted samples. Use `zero_division` parameter to control this behavior.\n",
            "  _warn_prf(average, modifier, f\"{metric.capitalize()} is\", len(result))\n",
            "/usr/local/lib/python3.11/dist-packages/sklearn/metrics/_classification.py:1565: UndefinedMetricWarning: Precision is ill-defined and being set to 0.0 in labels with no predicted samples. Use `zero_division` parameter to control this behavior.\n",
            "  _warn_prf(average, modifier, f\"{metric.capitalize()} is\", len(result))\n",
            "/usr/local/lib/python3.11/dist-packages/sklearn/metrics/_classification.py:1565: UndefinedMetricWarning: Precision is ill-defined and being set to 0.0 in labels with no predicted samples. Use `zero_division` parameter to control this behavior.\n",
            "  _warn_prf(average, modifier, f\"{metric.capitalize()} is\", len(result))\n"
          ]
        },
        {
          "output_type": "display_data",
          "data": {
            "text/plain": [
              "<Figure size 600x500 with 2 Axes>"
            ],
            "image/png": "[encoded data removed]"
          },
          "metadata": {}
        }
      ]
    }
  ]
}